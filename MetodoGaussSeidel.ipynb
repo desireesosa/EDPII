{
  "nbformat": 4,
  "nbformat_minor": 0,
  "metadata": {
    "colab": {
      "provenance": [],
      "authorship_tag": "ABX9TyMb7pIFnCTNh8EK5qJRV1yr",
      "include_colab_link": true
    },
    "kernelspec": {
      "name": "python3",
      "display_name": "Python 3"
    },
    "language_info": {
      "name": "python"
    }
  },
  "cells": [
    {
      "cell_type": "markdown",
      "metadata": {
        "id": "view-in-github",
        "colab_type": "text"
      },
      "source": [
        "<a href=\"https://colab.research.google.com/github/desireesosa/EDPII/blob/main/MetodoGaussSeidel.ipynb\" target=\"_parent\"><img src=\"https://colab.research.google.com/assets/colab-badge.svg\" alt=\"Open In Colab\"/></a>"
      ]
    },
    {
      "cell_type": "markdown",
      "source": [
        "**Método de Gauss Seidel**\n",
        "\n",
        "*El Método de Gauss Seidel es similar al Método de Jacobi.*\n",
        "*Este método nos permite encontrar la solución de un sistema de **n** ecuaciones con **n** incógnitas. Siendo un método iterativo, debe aplicarse hasta que se pueda encontrar una solución adecuada o con un error considerablemente pequeño.*\n",
        "\n",
        "*Para este método es necesario contar con un vector aproximado completo para proceder a la sustitución en las ecuaciones de recurrencia para obtener una nueva aproximación.*\n",
        "\n",
        "***Algoritmo del método:***\n",
        "\n",
        "\n",
        "\n"
      ],
      "metadata": {
        "id": "FrdnARvA1b0z"
      }
    },
    {
      "cell_type": "code",
      "source": [
        "import numpy as np\n",
        "import pandas as pd\n",
        "\n",
        "def metodo_gauss_seidel(A, b, x_ini, tol, Nmax):\n",
        "  #definimos\n",
        "  n=len(A)\n",
        "  k=1\n",
        "  xo=x_ini.copy()\n",
        "  x=xo.copy()\n",
        "\n",
        "  #lista de iteraciones\n",
        "  resultados=[x.tolist()]\n",
        "\n",
        "  #pero, mientras que K ≤ N, entonces:\n",
        "  #realizamos un ciclo para i=1,...,n.\n",
        "  while k<=Nmax:\n",
        "    xo=x.copy()\n",
        "    for i in range(n):\n",
        "      suma1=0.0\n",
        "      for j in range(i):\n",
        "        suma1+=A[i,j]*x[j]\n",
        "      suma2=0.0\n",
        "      for j in range(i+1,n):\n",
        "        suma2+=A[i,j]*xo[j]\n",
        "\n",
        "  #entonces, determinando a xi\n",
        "      x[i]=(b[i]-suma1-suma2)/A[i,i]\n",
        "\n",
        "    # Store the results of the current iteration\n",
        "    resultados.append(x.tolist())\n",
        "\n",
        "  #ahora, si x-XO < TOL, hacemos:\n",
        "    if np.linalg.norm(x-xo, ord=np.inf)<tol:\n",
        "      print(f\"El procedimiento fue exitoso, convergio despues de {k} iteraciones.\")\n",
        "      return resultados, x, k\n",
        "\n",
        "  #ahora, definimos\n",
        "    k+=1\n",
        "\n",
        "  print(\"El procedimieto no fue exitoso, el número maximo de iteraciones fue excedido.\")\n",
        "  return resultados, None, Nmax"
      ],
      "metadata": {
        "id": "jvuPHQSDkaiu"
      },
      "execution_count": 20,
      "outputs": []
    },
    {
      "cell_type": "markdown",
      "source": [
        "ahora, aplicamos el ejemplo 2 visto en clase."
      ],
      "metadata": {
        "id": "vT4_7R-ytyb8"
      }
    },
    {
      "cell_type": "code",
      "source": [
        "#aplicando el sistema\n",
        "if __name__==\"__main__\":\n",
        "  A=np.array([[4, -1, 0, -1, 0, 0, 0, 0, 0],\n",
        "              [-1, 4, -1, 0, -1, 0, 0, 0, 0],\n",
        "              [0, -1, 4, 0, 0, -1, 0, 0, 0],\n",
        "              [-1, 0, 0, 4, -1, 0, -1, 0, 0],\n",
        "              [0, -1, 0, -1, 4, -1, 0, -1, 0],\n",
        "              [0, 0, -1, 0, -1, 4, 0, 0, -1],\n",
        "              [0, 0, 0, -1, 0, 0, 4, -1, 0],\n",
        "              [0, 0, 0, 0, -1, 0, -1, 4, -1],\n",
        "              [0, 0, 0, 0, 0, -1, 0, -1, 4]])\n",
        "  b=np.array([0, 0, 1/2, 0, 0, 1, 0, 0, 1/2])\n",
        "  x0=np.zeros_like(b)\n",
        "  Nmax=50\n",
        "  tol=1e-5"
      ],
      "metadata": {
        "id": "E1anLNCo8FZy"
      },
      "execution_count": 21,
      "outputs": []
    },
    {
      "cell_type": "markdown",
      "source": [
        "para una mejor presentacion, imprimimos el resultado en una tabla:"
      ],
      "metadata": {
        "id": "3_YVKh2a9obD"
      }
    },
    {
      "cell_type": "code",
      "source": [
        "tabla_iter, solucion, num_iteraciones = metodo_gauss_seidel(A, b, x0, tol, Nmax)\n",
        "\n",
        "print(\"Tabla de iteraciones.\")\n",
        "if tabla_iter is not None:\n",
        "  df_iteraciones = pd.DataFrame(tabla_iter)\n",
        "  print(df_iteraciones)\n",
        "\n",
        "\n",
        "if solucion is not None:\n",
        "  print(\"Solución encontrada.\")\n",
        "  print(f\"Número de iteraciones: {num_iteraciones}\")"
      ],
      "metadata": {
        "colab": {
          "base_uri": "https://localhost:8080/"
        },
        "id": "vusslpb297nA",
        "outputId": "207f79da-c523-4172-e544-b0e0fabdb794"
      },
      "execution_count": 24,
      "outputs": [
        {
          "output_type": "stream",
          "name": "stdout",
          "text": [
            "El procedimiento fue exitoso, convergio despues de 16 iteraciones.\n",
            "Tabla de iteraciones.\n",
            "           0         1         2         3         4         5         6  \\\n",
            "0   0.000000  0.000000  0.000000  0.000000  0.000000  0.000000  0.000000   \n",
            "1   0.000000  0.000000  0.125000  0.000000  0.000000  0.281250  0.000000   \n",
            "2   0.000000  0.031250  0.203125  0.000000  0.078125  0.369141  0.000000   \n",
            "3   0.007812  0.072266  0.235352  0.021484  0.132812  0.400635  0.022461   \n",
            "4   0.023438  0.097900  0.249634  0.044678  0.160156  0.414825  0.035522   \n",
            "5   0.035645  0.111359  0.256546  0.057831  0.173828  0.421726  0.042282   \n",
            "6   0.042297  0.118168  0.259974  0.064602  0.180664  0.425152  0.045691   \n",
            "7   0.045692  0.121583  0.261684  0.068012  0.184082  0.426862  0.047398   \n",
            "8   0.047399  0.123291  0.262538  0.069720  0.185791  0.427717  0.048253   \n",
            "9   0.048253  0.124146  0.262966  0.070574  0.186646  0.428144  0.048680   \n",
            "10  0.048680  0.124573  0.263179  0.071001  0.187073  0.428358  0.048894   \n",
            "11  0.048894  0.124786  0.263286  0.071215  0.187286  0.428465  0.049000   \n",
            "12  0.049000  0.124893  0.263339  0.071322  0.187393  0.428518  0.049054   \n",
            "13  0.049054  0.124947  0.263366  0.071375  0.187447  0.428545  0.049080   \n",
            "14  0.049080  0.124973  0.263380  0.071402  0.187473  0.428558  0.049094   \n",
            "15  0.049094  0.124987  0.263386  0.071415  0.187487  0.428565  0.049100   \n",
            "16  0.049100  0.124993  0.263390  0.071422  0.187493  0.428568  0.049104   \n",
            "\n",
            "           7         8  \n",
            "0   0.000000  0.000000  \n",
            "1   0.000000  0.195312  \n",
            "2   0.068359  0.234375  \n",
            "3   0.097412  0.249512  \n",
            "4   0.111298  0.256531  \n",
            "5   0.118160  0.259972  \n",
            "6   0.121582  0.261683  \n",
            "7   0.123291  0.262538  \n",
            "8   0.124146  0.262966  \n",
            "9   0.124573  0.263179  \n",
            "10  0.124786  0.263286  \n",
            "11  0.124893  0.263339  \n",
            "12  0.124947  0.263366  \n",
            "13  0.124973  0.263380  \n",
            "14  0.124987  0.263386  \n",
            "15  0.124993  0.263390  \n",
            "16  0.124997  0.263391  \n",
            "Solución encontrada.\n",
            "Número de iteraciones: 16\n"
          ]
        }
      ]
    }
  ]
}